{
 "cells": [
  {
   "attachments": {},
   "cell_type": "markdown",
   "metadata": {},
   "source": [
    "# RepoController\n",
    "\n",
    "A notebook with tools to manipulate the github"
   ]
  },
  {
   "attachments": {},
   "cell_type": "markdown",
   "metadata": {},
   "source": [
    "Create folders"
   ]
  },
  {
   "cell_type": "code",
   "execution_count": 2,
   "metadata": {},
   "outputs": [],
   "source": [
    "import os\n",
    "\n",
    "# Define the directories and files to create\n",
    "folders = [\n",
    "    \"neurodragon\",\n",
    "    \"neurodragon/layers\",\n",
    "    \"neurodragon/utils\",\n",
    "    \"examples\",\n",
    "    \"tests\",\n",
    "]\n",
    "\n",
    "files = [\n",
    "    \"neurodragon/__init__.py\",\n",
    "    \"neurodragon/layers/__init__.py\",\n",
    "    \"neurodragon/layers/base.py\",\n",
    "    \"neurodragon/layers/input_layer.py\",\n",
    "    \"neurodragon/layers/short_term_memory_layer.py\",\n",
    "    \"neurodragon/layers/query_embedder_layer.py\",\n",
    "    \"neurodragon/layers/long_term_memory_layer.py\",\n",
    "    \"neurodragon/layers/working_memory_layer.py\",\n",
    "    \"neurodragon/layers/output_layer.py\",\n",
    "    \"neurodragon/utils/__init__.py\",\n",
    "    \"neurodragon/utils/tools.py\",\n",
    "    \"examples/fifo_vector_chat_example.py\",\n",
    "    \"tests/__init__.py\",\n",
    "    \"tests/test_layers.py\",\n",
    "    \"setup.py\",\n",
    "    \"README.md\",\n",
    "]\n",
    "\n",
    "# Create the directories\n",
    "for folder in folders:\n",
    "    os.makedirs(folder, exist_ok=True)\n",
    "\n",
    "# Create the files\n",
    "for file in files:\n",
    "    with open(file, \"w\") as f:\n",
    "        pass\n"
   ]
  },
  {
   "cell_type": "code",
   "execution_count": null,
   "metadata": {},
   "outputs": [],
   "source": []
  }
 ],
 "metadata": {
  "kernelspec": {
   "display_name": "Python 3",
   "language": "python",
   "name": "python3"
  },
  "language_info": {
   "codemirror_mode": {
    "name": "ipython",
    "version": 3
   },
   "file_extension": ".py",
   "mimetype": "text/x-python",
   "name": "python",
   "nbconvert_exporter": "python",
   "pygments_lexer": "ipython3",
   "version": "3.10.6"
  },
  "orig_nbformat": 4
 },
 "nbformat": 4,
 "nbformat_minor": 2
}
